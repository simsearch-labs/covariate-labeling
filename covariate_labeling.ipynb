{
 "cells": [
  {
   "cell_type": "code",
   "execution_count": 2,
   "metadata": {},
   "outputs": [
    {
     "name": "stderr",
     "output_type": "stream",
     "text": [
      "c:\\Users\\ardit\\miniconda3\\envs\\env1\\Lib\\site-packages\\sentence_transformers\\cross_encoder\\CrossEncoder.py:11: TqdmExperimentalWarning: Using `tqdm.autonotebook.tqdm` in notebook mode. Use `tqdm.tqdm` instead to force console mode (e.g. in jupyter console)\n",
      "  from tqdm.autonotebook import tqdm, trange\n"
     ]
    },
    {
     "name": "stdout",
     "output_type": "stream",
     "text": [
      "WARNING:tensorflow:From c:\\Users\\ardit\\miniconda3\\envs\\env1\\Lib\\site-packages\\tf_keras\\src\\losses.py:2976: The name tf.losses.sparse_softmax_cross_entropy is deprecated. Please use tf.compat.v1.losses.sparse_softmax_cross_entropy instead.\n",
      "\n"
     ]
    }
   ],
   "source": [
    "from sklearn.neighbors import NearestNeighbors\n",
    "from sentence_transformers import SentenceTransformer\n",
    "import pandas as pd\n",
    "import textwrap\n",
    "import numpy as np\n",
    "from scipy.optimize import nnls\n",
    "from scipy import stats\n",
    "import plotly.express as px\n",
    "from sklearn.neighbors import NearestNeighbors\n",
    "import random\n",
    "\n",
    "# we instatiate the model first, so we can assign it to multiple copies of the engine\n",
    "model = SentenceTransformer('sentence-transformers/all-MiniLM-L6-v2', device='cpu')"
   ]
  },
  {
   "cell_type": "code",
   "execution_count": 3,
   "metadata": {},
   "outputs": [],
   "source": [
    "# import raw data\n",
    "df = pd.read_parquet('games.parquet').dropna()\n",
    "df['Tags'] = df['Tags'].apply(lambda x : x.split(','))\n",
    "df['Genres'] = df['Genres'].apply(lambda x : x.split(','))\n",
    "df = df.drop(['game_vector', 'game_indices', 'Score', 'Recommendations'], axis=1)\n",
    "\n",
    "# extract raw lists\n",
    "sample_list = df['Tags'].values.tolist()\n",
    "tag_list = sorted(list(set([x for xs in sample_list for x in xs])))\n",
    "tag_encoded = [model.encode(x) for x in tag_list]\n",
    "\n",
    "index = NearestNeighbors(n_neighbors=20, metric='cosine').fit(tag_encoded)"
   ]
  },
  {
   "cell_type": "code",
   "execution_count": 39,
   "metadata": {},
   "outputs": [
    {
     "name": "stdout",
     "output_type": "stream",
     "text": [
      "Death is lonely. He has zero friends on his FaceTome account and no one to hang out with. So, in order to feel better he\n",
      "begins “Project Deadlings”. Death buys a factory where he can build his laboratory and begin training a massive army of\n",
      "zombie minions. As the army of Deadlings grows, the mazes of the laboratory become deadlier, loaded with puzzles and\n",
      "death-defying traps. Different Deadlings have their own unique abilities: Bonesack is agile - he can run and jump, Creep\n",
      "can climb on walls and ceilings, Lazybrain treads slowly but carefully and Stencher... well Stencher has gastric\n",
      "problems so he can use his powerful gas clouds to fly. You will have to combine all of these abilities to find your way\n",
      "in Death's Maze. Can you help Death to kill his boredom? Will you be able to navigate all 60+ levels available in\n",
      "Deadlings? Will you complete Project Deadlings, and successfully train all of your zombie minions? Arcade side-scroller\n",
      "with strategy elements! Four different types of zombie minions with unique abilities! 70 levels of pure zombie gore fun!\n",
      "Additional game mode - Nightmare - only for the hardcore gamers! What's new in the Rotten Edition? 10 brand new bonus\n",
      "levels 15 new levels in Nightmare Mode Steam achievements and leaderboards Full controller support Nightmare mode\n",
      "unlocked from the beginning Steam Trading Cards and Badges HD graphics \n",
      "\n",
      "[10, 11, 14]\n",
      "['Silent Protagonist', 'Tutorial', 'Dungeon Crawler', 'Level Editor', 'Open World Survival Craft', 'Perma Death', 'Zombies']\n"
     ]
    },
    {
     "data": {
      "application/vnd.plotly.v1+json": {
       "config": {
        "plotlyServerURL": "https://plot.ly"
       },
       "data": [
        {
         "alignmentgroup": "True",
         "hovertemplate": "x=%{x}<br>Score=%{y}<extra></extra>",
         "legendgroup": "",
         "marker": {
          "color": "#636efa",
          "pattern": {
           "shape": ""
          }
         },
         "name": "",
         "offsetgroup": "",
         "orientation": "v",
         "showlegend": false,
         "textposition": "auto",
         "type": "bar",
         "x": [
          0,
          1,
          2,
          3,
          4,
          5,
          6,
          7,
          8,
          9,
          10,
          11,
          12,
          13,
          14,
          15
         ],
         "xaxis": "x",
         "y": [
          0.22507765889167786,
          0.1120576336979866,
          0.09810531884431839,
          0.09235741198062897,
          0.08977392315864563,
          0.054478950798511505,
          0.0492522157728672,
          0.04886375367641449,
          0.047447994351387024,
          0.042846277356147766,
          0.03837413713335991,
          0.03827759623527527,
          0.03405310586094856,
          0.0285599697381258,
          0.004613522905856371,
          0.001969719771295786
         ],
         "yaxis": "y"
        }
       ],
       "layout": {
        "barmode": "relative",
        "legend": {
         "tracegroupgap": 0
        },
        "margin": {
         "t": 60
        },
        "template": {
         "data": {
          "bar": [
           {
            "error_x": {
             "color": "#2a3f5f"
            },
            "error_y": {
             "color": "#2a3f5f"
            },
            "marker": {
             "line": {
              "color": "#E5ECF6",
              "width": 0.5
             },
             "pattern": {
              "fillmode": "overlay",
              "size": 10,
              "solidity": 0.2
             }
            },
            "type": "bar"
           }
          ],
          "barpolar": [
           {
            "marker": {
             "line": {
              "color": "#E5ECF6",
              "width": 0.5
             },
             "pattern": {
              "fillmode": "overlay",
              "size": 10,
              "solidity": 0.2
             }
            },
            "type": "barpolar"
           }
          ],
          "carpet": [
           {
            "aaxis": {
             "endlinecolor": "#2a3f5f",
             "gridcolor": "white",
             "linecolor": "white",
             "minorgridcolor": "white",
             "startlinecolor": "#2a3f5f"
            },
            "baxis": {
             "endlinecolor": "#2a3f5f",
             "gridcolor": "white",
             "linecolor": "white",
             "minorgridcolor": "white",
             "startlinecolor": "#2a3f5f"
            },
            "type": "carpet"
           }
          ],
          "choropleth": [
           {
            "colorbar": {
             "outlinewidth": 0,
             "ticks": ""
            },
            "type": "choropleth"
           }
          ],
          "contour": [
           {
            "colorbar": {
             "outlinewidth": 0,
             "ticks": ""
            },
            "colorscale": [
             [
              0,
              "#0d0887"
             ],
             [
              0.1111111111111111,
              "#46039f"
             ],
             [
              0.2222222222222222,
              "#7201a8"
             ],
             [
              0.3333333333333333,
              "#9c179e"
             ],
             [
              0.4444444444444444,
              "#bd3786"
             ],
             [
              0.5555555555555556,
              "#d8576b"
             ],
             [
              0.6666666666666666,
              "#ed7953"
             ],
             [
              0.7777777777777778,
              "#fb9f3a"
             ],
             [
              0.8888888888888888,
              "#fdca26"
             ],
             [
              1,
              "#f0f921"
             ]
            ],
            "type": "contour"
           }
          ],
          "contourcarpet": [
           {
            "colorbar": {
             "outlinewidth": 0,
             "ticks": ""
            },
            "type": "contourcarpet"
           }
          ],
          "heatmap": [
           {
            "colorbar": {
             "outlinewidth": 0,
             "ticks": ""
            },
            "colorscale": [
             [
              0,
              "#0d0887"
             ],
             [
              0.1111111111111111,
              "#46039f"
             ],
             [
              0.2222222222222222,
              "#7201a8"
             ],
             [
              0.3333333333333333,
              "#9c179e"
             ],
             [
              0.4444444444444444,
              "#bd3786"
             ],
             [
              0.5555555555555556,
              "#d8576b"
             ],
             [
              0.6666666666666666,
              "#ed7953"
             ],
             [
              0.7777777777777778,
              "#fb9f3a"
             ],
             [
              0.8888888888888888,
              "#fdca26"
             ],
             [
              1,
              "#f0f921"
             ]
            ],
            "type": "heatmap"
           }
          ],
          "heatmapgl": [
           {
            "colorbar": {
             "outlinewidth": 0,
             "ticks": ""
            },
            "colorscale": [
             [
              0,
              "#0d0887"
             ],
             [
              0.1111111111111111,
              "#46039f"
             ],
             [
              0.2222222222222222,
              "#7201a8"
             ],
             [
              0.3333333333333333,
              "#9c179e"
             ],
             [
              0.4444444444444444,
              "#bd3786"
             ],
             [
              0.5555555555555556,
              "#d8576b"
             ],
             [
              0.6666666666666666,
              "#ed7953"
             ],
             [
              0.7777777777777778,
              "#fb9f3a"
             ],
             [
              0.8888888888888888,
              "#fdca26"
             ],
             [
              1,
              "#f0f921"
             ]
            ],
            "type": "heatmapgl"
           }
          ],
          "histogram": [
           {
            "marker": {
             "pattern": {
              "fillmode": "overlay",
              "size": 10,
              "solidity": 0.2
             }
            },
            "type": "histogram"
           }
          ],
          "histogram2d": [
           {
            "colorbar": {
             "outlinewidth": 0,
             "ticks": ""
            },
            "colorscale": [
             [
              0,
              "#0d0887"
             ],
             [
              0.1111111111111111,
              "#46039f"
             ],
             [
              0.2222222222222222,
              "#7201a8"
             ],
             [
              0.3333333333333333,
              "#9c179e"
             ],
             [
              0.4444444444444444,
              "#bd3786"
             ],
             [
              0.5555555555555556,
              "#d8576b"
             ],
             [
              0.6666666666666666,
              "#ed7953"
             ],
             [
              0.7777777777777778,
              "#fb9f3a"
             ],
             [
              0.8888888888888888,
              "#fdca26"
             ],
             [
              1,
              "#f0f921"
             ]
            ],
            "type": "histogram2d"
           }
          ],
          "histogram2dcontour": [
           {
            "colorbar": {
             "outlinewidth": 0,
             "ticks": ""
            },
            "colorscale": [
             [
              0,
              "#0d0887"
             ],
             [
              0.1111111111111111,
              "#46039f"
             ],
             [
              0.2222222222222222,
              "#7201a8"
             ],
             [
              0.3333333333333333,
              "#9c179e"
             ],
             [
              0.4444444444444444,
              "#bd3786"
             ],
             [
              0.5555555555555556,
              "#d8576b"
             ],
             [
              0.6666666666666666,
              "#ed7953"
             ],
             [
              0.7777777777777778,
              "#fb9f3a"
             ],
             [
              0.8888888888888888,
              "#fdca26"
             ],
             [
              1,
              "#f0f921"
             ]
            ],
            "type": "histogram2dcontour"
           }
          ],
          "mesh3d": [
           {
            "colorbar": {
             "outlinewidth": 0,
             "ticks": ""
            },
            "type": "mesh3d"
           }
          ],
          "parcoords": [
           {
            "line": {
             "colorbar": {
              "outlinewidth": 0,
              "ticks": ""
             }
            },
            "type": "parcoords"
           }
          ],
          "pie": [
           {
            "automargin": true,
            "type": "pie"
           }
          ],
          "scatter": [
           {
            "fillpattern": {
             "fillmode": "overlay",
             "size": 10,
             "solidity": 0.2
            },
            "type": "scatter"
           }
          ],
          "scatter3d": [
           {
            "line": {
             "colorbar": {
              "outlinewidth": 0,
              "ticks": ""
             }
            },
            "marker": {
             "colorbar": {
              "outlinewidth": 0,
              "ticks": ""
             }
            },
            "type": "scatter3d"
           }
          ],
          "scattercarpet": [
           {
            "marker": {
             "colorbar": {
              "outlinewidth": 0,
              "ticks": ""
             }
            },
            "type": "scattercarpet"
           }
          ],
          "scattergeo": [
           {
            "marker": {
             "colorbar": {
              "outlinewidth": 0,
              "ticks": ""
             }
            },
            "type": "scattergeo"
           }
          ],
          "scattergl": [
           {
            "marker": {
             "colorbar": {
              "outlinewidth": 0,
              "ticks": ""
             }
            },
            "type": "scattergl"
           }
          ],
          "scattermapbox": [
           {
            "marker": {
             "colorbar": {
              "outlinewidth": 0,
              "ticks": ""
             }
            },
            "type": "scattermapbox"
           }
          ],
          "scatterpolar": [
           {
            "marker": {
             "colorbar": {
              "outlinewidth": 0,
              "ticks": ""
             }
            },
            "type": "scatterpolar"
           }
          ],
          "scatterpolargl": [
           {
            "marker": {
             "colorbar": {
              "outlinewidth": 0,
              "ticks": ""
             }
            },
            "type": "scatterpolargl"
           }
          ],
          "scatterternary": [
           {
            "marker": {
             "colorbar": {
              "outlinewidth": 0,
              "ticks": ""
             }
            },
            "type": "scatterternary"
           }
          ],
          "surface": [
           {
            "colorbar": {
             "outlinewidth": 0,
             "ticks": ""
            },
            "colorscale": [
             [
              0,
              "#0d0887"
             ],
             [
              0.1111111111111111,
              "#46039f"
             ],
             [
              0.2222222222222222,
              "#7201a8"
             ],
             [
              0.3333333333333333,
              "#9c179e"
             ],
             [
              0.4444444444444444,
              "#bd3786"
             ],
             [
              0.5555555555555556,
              "#d8576b"
             ],
             [
              0.6666666666666666,
              "#ed7953"
             ],
             [
              0.7777777777777778,
              "#fb9f3a"
             ],
             [
              0.8888888888888888,
              "#fdca26"
             ],
             [
              1,
              "#f0f921"
             ]
            ],
            "type": "surface"
           }
          ],
          "table": [
           {
            "cells": {
             "fill": {
              "color": "#EBF0F8"
             },
             "line": {
              "color": "white"
             }
            },
            "header": {
             "fill": {
              "color": "#C8D4E3"
             },
             "line": {
              "color": "white"
             }
            },
            "type": "table"
           }
          ]
         },
         "layout": {
          "annotationdefaults": {
           "arrowcolor": "#2a3f5f",
           "arrowhead": 0,
           "arrowwidth": 1
          },
          "autotypenumbers": "strict",
          "coloraxis": {
           "colorbar": {
            "outlinewidth": 0,
            "ticks": ""
           }
          },
          "colorscale": {
           "diverging": [
            [
             0,
             "#8e0152"
            ],
            [
             0.1,
             "#c51b7d"
            ],
            [
             0.2,
             "#de77ae"
            ],
            [
             0.3,
             "#f1b6da"
            ],
            [
             0.4,
             "#fde0ef"
            ],
            [
             0.5,
             "#f7f7f7"
            ],
            [
             0.6,
             "#e6f5d0"
            ],
            [
             0.7,
             "#b8e186"
            ],
            [
             0.8,
             "#7fbc41"
            ],
            [
             0.9,
             "#4d9221"
            ],
            [
             1,
             "#276419"
            ]
           ],
           "sequential": [
            [
             0,
             "#0d0887"
            ],
            [
             0.1111111111111111,
             "#46039f"
            ],
            [
             0.2222222222222222,
             "#7201a8"
            ],
            [
             0.3333333333333333,
             "#9c179e"
            ],
            [
             0.4444444444444444,
             "#bd3786"
            ],
            [
             0.5555555555555556,
             "#d8576b"
            ],
            [
             0.6666666666666666,
             "#ed7953"
            ],
            [
             0.7777777777777778,
             "#fb9f3a"
            ],
            [
             0.8888888888888888,
             "#fdca26"
            ],
            [
             1,
             "#f0f921"
            ]
           ],
           "sequentialminus": [
            [
             0,
             "#0d0887"
            ],
            [
             0.1111111111111111,
             "#46039f"
            ],
            [
             0.2222222222222222,
             "#7201a8"
            ],
            [
             0.3333333333333333,
             "#9c179e"
            ],
            [
             0.4444444444444444,
             "#bd3786"
            ],
            [
             0.5555555555555556,
             "#d8576b"
            ],
            [
             0.6666666666666666,
             "#ed7953"
            ],
            [
             0.7777777777777778,
             "#fb9f3a"
            ],
            [
             0.8888888888888888,
             "#fdca26"
            ],
            [
             1,
             "#f0f921"
            ]
           ]
          },
          "colorway": [
           "#636efa",
           "#EF553B",
           "#00cc96",
           "#ab63fa",
           "#FFA15A",
           "#19d3f3",
           "#FF6692",
           "#B6E880",
           "#FF97FF",
           "#FECB52"
          ],
          "font": {
           "color": "#2a3f5f"
          },
          "geo": {
           "bgcolor": "white",
           "lakecolor": "white",
           "landcolor": "#E5ECF6",
           "showlakes": true,
           "showland": true,
           "subunitcolor": "white"
          },
          "hoverlabel": {
           "align": "left"
          },
          "hovermode": "closest",
          "mapbox": {
           "style": "light"
          },
          "paper_bgcolor": "white",
          "plot_bgcolor": "#E5ECF6",
          "polar": {
           "angularaxis": {
            "gridcolor": "white",
            "linecolor": "white",
            "ticks": ""
           },
           "bgcolor": "#E5ECF6",
           "radialaxis": {
            "gridcolor": "white",
            "linecolor": "white",
            "ticks": ""
           }
          },
          "scene": {
           "xaxis": {
            "backgroundcolor": "#E5ECF6",
            "gridcolor": "white",
            "gridwidth": 2,
            "linecolor": "white",
            "showbackground": true,
            "ticks": "",
            "zerolinecolor": "white"
           },
           "yaxis": {
            "backgroundcolor": "#E5ECF6",
            "gridcolor": "white",
            "gridwidth": 2,
            "linecolor": "white",
            "showbackground": true,
            "ticks": "",
            "zerolinecolor": "white"
           },
           "zaxis": {
            "backgroundcolor": "#E5ECF6",
            "gridcolor": "white",
            "gridwidth": 2,
            "linecolor": "white",
            "showbackground": true,
            "ticks": "",
            "zerolinecolor": "white"
           }
          },
          "shapedefaults": {
           "line": {
            "color": "#2a3f5f"
           }
          },
          "ternary": {
           "aaxis": {
            "gridcolor": "white",
            "linecolor": "white",
            "ticks": ""
           },
           "baxis": {
            "gridcolor": "white",
            "linecolor": "white",
            "ticks": ""
           },
           "bgcolor": "#E5ECF6",
           "caxis": {
            "gridcolor": "white",
            "linecolor": "white",
            "ticks": ""
           }
          },
          "title": {
           "x": 0.05
          },
          "xaxis": {
           "automargin": true,
           "gridcolor": "white",
           "linecolor": "white",
           "ticks": "",
           "title": {
            "standoff": 15
           },
           "zerolinecolor": "white",
           "zerolinewidth": 2
          },
          "yaxis": {
           "automargin": true,
           "gridcolor": "white",
           "linecolor": "white",
           "ticks": "",
           "title": {
            "standoff": 15
           },
           "zerolinecolor": "white",
           "zerolinewidth": 2
          }
         }
        },
        "xaxis": {
         "anchor": "y",
         "domain": [
          0,
          1
         ],
         "title": {
          "text": "x"
         }
        },
        "yaxis": {
         "anchor": "x",
         "domain": [
          0,
          1
         ],
         "title": {
          "text": "Score"
         }
        }
       }
      }
     },
     "metadata": {},
     "output_type": "display_data"
    },
    {
     "name": "stdout",
     "output_type": "stream",
     "text": [
      "[1, 1, 0, 0, 1, 0, 1, 0, 0, 1, 0, 0, 0, 0, 0, 1, 0, 0, 0, 0]\n"
     ]
    }
   ],
   "source": [
    "def covariate_tagging(str1, inflection_point):\n",
    "\n",
    "\tprint(textwrap.fill(str1, width=120), '\\n')\n",
    "\n",
    "\tk = model.encode(str1)\n",
    "\n",
    "\tX = np.hstack([x[:, np.newaxis] for x in tag_encoded])\n",
    "\t# Non-Negative Least Squares (NNLS)\n",
    "\tw, _ = nnls(X, k)\n",
    "\n",
    "\t# filtering\n",
    "\tdata = sorted(list(zip(w, tag_list)))[::-1]\n",
    "\tdf_ = pd.DataFrame([x for x in data[::-1] if x[0] > 0], columns=['Score', 'Label'])\n",
    "\tscores = df_['Score'].values.tolist()\n",
    "\n",
    "\t# Calculate the first and second derivatives\n",
    "\tfirst_derivatives = np.diff(scores)\n",
    "\tsecond_derivatives = np.diff(first_derivatives)\n",
    "\n",
    "\t# Calculate the absolute values of the second derivatives\n",
    "\tabs_second_derivatives = np.abs(second_derivatives)\n",
    "\n",
    "\tinflection_points = sorted(np.argsort(-abs_second_derivatives)[:3])[::-1]\n",
    "\ttags_top = df_.iloc[df_[inflection_points[inflection_point]:].index]['Label'].tolist()\n",
    "\tprint([x+1 for x in inflection_points[::-1]])\n",
    "\tprint(tags_top)\n",
    "\t\n",
    "\t# print z-score\n",
    "\tfig = px.bar(df_[::-1], x=df_.index, y='Score')\n",
    "\tfig.show()\n",
    "\n",
    "\t# compare it with raw knn: the positions are scattered, we don't just keep the top k ones\n",
    "\tdistances, indices = index.kneighbors([model.encode(str1)])\n",
    "\tknn_tags = list()\n",
    "\tfor i in indices[0]:\n",
    "\t\tif tag_list[i] in tags_top:\n",
    "\t\t\tknn_tags.append(1)\n",
    "\t\telse:\n",
    "\t\t\tknn_tags.append(0)\n",
    "\tknn_tags\n",
    "\n",
    "\treturn df_['Score'].values.tolist(), tags_top, knn_tags\n",
    "\n",
    "r = random.randint(0, len(df))\n",
    "print('index:', r)\n",
    "# r = 4 # if you are following the article, choose r = 4\n",
    "str1 = df.iloc[r]['About the game']\n",
    "scores, tags_top, knn_tags = covariate_tagging(str1, inflection_point=2)\n",
    "print(knn_tags)"
   ]
  },
  {
   "cell_type": "markdown",
   "metadata": {},
   "source": [
    "### comparison with bart-large-mnli"
   ]
  },
  {
   "cell_type": "code",
   "execution_count": null,
   "metadata": {},
   "outputs": [],
   "source": [
    "from transformers import pipeline\n",
    "classifier = pipeline(\"zero-shot-classification\", model=\"facebook/bart-large-mnli\")"
   ]
  },
  {
   "cell_type": "code",
   "execution_count": 44,
   "metadata": {},
   "outputs": [
    {
     "data": {
      "text/plain": [
       "{'sequence': \"Death is lonely. He has zero friends on his FaceTome account and no one to hang out with. So, in order to feel better he begins “Project Deadlings”. Death buys a factory where he can build his laboratory and begin training a massive army of zombie minions. As the army of Deadlings grows, the mazes of the laboratory become deadlier, loaded with puzzles and death-defying traps. Different Deadlings have their own unique abilities: Bonesack is agile - he can run and jump, Creep can climb on walls and ceilings, Lazybrain treads slowly but carefully and Stencher... well Stencher has gastric problems so he can use his powerful gas clouds to fly. You will have to combine all of these abilities to find your way in Death's Maze. Can you help Death to kill his boredom? Will you be able to navigate all 60+ levels available in Deadlings? Will you complete Project Deadlings, and successfully train all of your zombie minions? Arcade side-scroller with strategy elements! Four different types of zombie minions with unique abilities! 70 levels of pure zombie gore fun! Additional game mode - Nightmare - only for the hardcore gamers! What's new in the Rotten Edition? 10 brand new bonus levels 15 new levels in Nightmare Mode Steam achievements and leaderboards Full controller support Nightmare mode unlocked from the beginning Steam Trading Cards and Badges HD graphics\",\n",
       " 'labels': ['Side Scroller',\n",
       "  'Arcade',\n",
       "  'Gaming',\n",
       "  'Strategy',\n",
       "  'Difficult',\n",
       "  'Addictive',\n",
       "  'Zombies',\n",
       "  'Controller',\n",
       "  'Well-Written',\n",
       "  'Game Development',\n",
       "  'Dark',\n",
       "  'Immersive',\n",
       "  'Dystopian',\n",
       "  'Competitive',\n",
       "  'Stylized',\n",
       "  'Rogue-like',\n",
       "  'Moddable',\n",
       "  'Gore',\n",
       "  'Multiple Endings',\n",
       "  'Trading',\n",
       "  'Female Protagonist',\n",
       "  'Steam Machine',\n",
       "  'Villain Protagonist',\n",
       "  'Puzzle',\n",
       "  'Mod',\n",
       "  'Third Person',\n",
       "  'Intentionally Awkward Controls',\n",
       "  'Experience',\n",
       "  'Surreal',\n",
       "  'Trading Card Game',\n",
       "  'Short',\n",
       "  'Dynamic Narration',\n",
       "  'Software',\n",
       "  'Replay Value',\n",
       "  'Lovecraftian',\n",
       "  '4X',\n",
       "  'Abstract',\n",
       "  'Massively Multiplayer',\n",
       "  'Character Customization',\n",
       "  'Horror',\n",
       "  'Grid-Based Movement',\n",
       "  'Choices Matter',\n",
       "  'Split Screen',\n",
       "  'Interactive Fiction',\n",
       "  'Linear',\n",
       "  'Foreign',\n",
       "  'Silent Protagonist',\n",
       "  'Atmospheric',\n",
       "  'Nonlinear',\n",
       "  'Ambient',\n",
       "  'Building',\n",
       "  'Realistic',\n",
       "  'Asymmetric VR',\n",
       "  'Fast-Paced',\n",
       "  'Episodic',\n",
       "  '4 Player Local',\n",
       "  'Local Co-Op',\n",
       "  'Immersive Sim',\n",
       "  'Choose Your Own Adventure',\n",
       "  'Web Publishing',\n",
       "  'Pixel Graphics',\n",
       "  'Social Deduction',\n",
       "  'Mystery',\n",
       "  'Character Action Game',\n",
       "  'Tabletop',\n",
       "  'Story Rich',\n",
       "  'Exploration',\n",
       "  'Casual',\n",
       "  'CRPG',\n",
       "  'Narrative',\n",
       "  'Touch-Friendly',\n",
       "  'Asynchronous Multiplayer',\n",
       "  'Cinematic',\n",
       "  'Experimental',\n",
       "  'Multiplayer',\n",
       "  'Lore-Rich',\n",
       "  'Old School',\n",
       "  'Narration',\n",
       "  'e-sports',\n",
       "  'Satire',\n",
       "  'Drama',\n",
       "  'Spelling',\n",
       "  'FMV',\n",
       "  '3D Vision',\n",
       "  'Unforgiving',\n",
       "  'Management',\n",
       "  'Western',\n",
       "  'Otome',\n",
       "  'Emotional',\n",
       "  'Class-Based',\n",
       "  'Action-Adventure',\n",
       "  'Retro',\n",
       "  '360 Video',\n",
       "  'Grand Strategy',\n",
       "  'Hidden Object',\n",
       "  'Benchmark',\n",
       "  'Stealth',\n",
       "  'Soundtrack',\n",
       "  'Violent',\n",
       "  'Dark Humor',\n",
       "  'Online Co-Op',\n",
       "  'Destruction',\n",
       "  'Colorful',\n",
       "  'Base-Building',\n",
       "  'Cozy',\n",
       "  '6DOF',\n",
       "  'Minigames',\n",
       "  'Naval',\n",
       "  'Movie',\n",
       "  'Souls-like',\n",
       "  'Level Editor',\n",
       "  'Crowdfunded',\n",
       "  'Gothic',\n",
       "  'Voice Control',\n",
       "  'Hardware',\n",
       "  'Philosophical',\n",
       "  'LGBTQ+',\n",
       "  'Flight',\n",
       "  'Conversation',\n",
       "  'Score Attack',\n",
       "  'Automation',\n",
       "  'Parody',\n",
       "  'Local Multiplayer',\n",
       "  'Economy',\n",
       "  'Documentary',\n",
       "  'Futuristic',\n",
       "  'Minimalist',\n",
       "  'Action',\n",
       "  'Spectacle fighter',\n",
       "  'VR',\n",
       "  'Rogue-lite',\n",
       "  'Feature Film',\n",
       "  'Auto Battler',\n",
       "  'TrackIR',\n",
       "  '3D',\n",
       "  'Masterpiece',\n",
       "  'Design & Illustration',\n",
       "  'Procedural Generation',\n",
       "  'Card Game',\n",
       "  'Cartoony',\n",
       "  'Programming',\n",
       "  'Party Game',\n",
       "  'Indie',\n",
       "  'Word Game',\n",
       "  'Open World',\n",
       "  'Political',\n",
       "  'Co-op',\n",
       "  'Hobby Sim',\n",
       "  'Pool',\n",
       "  'Supernatural',\n",
       "  'Transportation',\n",
       "  'Psychological Horror',\n",
       "  'Military',\n",
       "  'Mature',\n",
       "  'Modern',\n",
       "  'Simulation',\n",
       "  'Kickstarter',\n",
       "  'Rhythm',\n",
       "  'Team-Based',\n",
       "  'Visual Novel',\n",
       "  'Nature',\n",
       "  'Tactical',\n",
       "  'Diplomacy',\n",
       "  'Assassin',\n",
       "  'Precision Platformer',\n",
       "  'Great Soundtrack',\n",
       "  'Remake',\n",
       "  'Real-Time',\n",
       "  'Electronic',\n",
       "  'Point & Click',\n",
       "  'Science',\n",
       "  'Classic',\n",
       "  'Typing',\n",
       "  'Noir',\n",
       "  'Cycling',\n",
       "  'Dark Comedy',\n",
       "  'Psychological',\n",
       "  'Hentai',\n",
       "  'Sailing',\n",
       "  'Music-Based Procedural Generation',\n",
       "  'NSFW',\n",
       "  'Animation & Modeling',\n",
       "  'Puzzle-Platformer',\n",
       "  'Deckbuilding',\n",
       "  'Sandbox',\n",
       "  'Resource Management',\n",
       "  'Offroad',\n",
       "  'Memes',\n",
       "  'Sexual Content',\n",
       "  'Audio Production',\n",
       "  'Musou',\n",
       "  'Voxel',\n",
       "  'Hex Grid',\n",
       "  'Software Training',\n",
       "  'Psychedelic',\n",
       "  'Submarine',\n",
       "  '8-bit Music',\n",
       "  'Relaxing',\n",
       "  'Gun Customization',\n",
       "  'Romance',\n",
       "  'Loot',\n",
       "  'Rome',\n",
       "  'Nudity',\n",
       "  'Card Battler',\n",
       "  \"Beat 'em up\",\n",
       "  'Sequel',\n",
       "  'Runner',\n",
       "  'GameMaker',\n",
       "  'Quick-Time Events',\n",
       "  'Music',\n",
       "  'Rugby',\n",
       "  'Artificial Intelligence',\n",
       "  'Electronic Music',\n",
       "  'Epic',\n",
       "  'Combat',\n",
       "  'Real-Time with Pause',\n",
       "  'Vehicular Combat',\n",
       "  'Time Manipulation',\n",
       "  'Adventure',\n",
       "  'Top-Down',\n",
       "  'Action Roguelike',\n",
       "  'Transhumanism',\n",
       "  'Sniper',\n",
       "  'Magic',\n",
       "  'Investigation',\n",
       "  'RPG',\n",
       "  'Party',\n",
       "  'Hacking',\n",
       "  'Hunting',\n",
       "  'Detective',\n",
       "  'Superhero',\n",
       "  'Utilities',\n",
       "  'Hack and Slash',\n",
       "  'Nostalgia',\n",
       "  'Cult Classic',\n",
       "  'Jump Scare',\n",
       "  'Faith',\n",
       "  'Steampunk',\n",
       "  'Parkour',\n",
       "  'Early Access',\n",
       "  'Crime',\n",
       "  'Snow',\n",
       "  'Isometric',\n",
       "  'Instrumental Music',\n",
       "  'Thriller',\n",
       "  'Underground',\n",
       "  'PvE',\n",
       "  'Physics',\n",
       "  'Survival',\n",
       "  'Fighting',\n",
       "  'Match 3',\n",
       "  'ATV',\n",
       "  'Historical',\n",
       "  'Medical Sim',\n",
       "  'Skating',\n",
       "  'Mythology',\n",
       "  'Medieval',\n",
       "  'Fox',\n",
       "  'War',\n",
       "  'Lemmings',\n",
       "  'Time Management',\n",
       "  'Coding',\n",
       "  'Colony Sim',\n",
       "  'Wholesome',\n",
       "  'Alternate History',\n",
       "  '1980s',\n",
       "  'Post-apocalyptic',\n",
       "  'Motorbike',\n",
       "  'Crafting',\n",
       "  'God Game',\n",
       "  '2.5D',\n",
       "  'Driving',\n",
       "  'Rock Music',\n",
       "  'Swordplay',\n",
       "  'Horses',\n",
       "  'Cold War',\n",
       "  'Dark Fantasy',\n",
       "  'Space',\n",
       "  'Racing',\n",
       "  'Sokoban',\n",
       "  'Vampire',\n",
       "  'Idler',\n",
       "  'Trains',\n",
       "  'Logic',\n",
       "  'Games Workshop',\n",
       "  'Roguevania',\n",
       "  'RPGMaker',\n",
       "  'Automobile Sim',\n",
       "  'Funny',\n",
       "  'Creature Collector',\n",
       "  'Inventory Management',\n",
       "  'Trivia',\n",
       "  'Bikes',\n",
       "  'Education',\n",
       "  'Political Sim',\n",
       "  'Farming',\n",
       "  'Shooter',\n",
       "  'Gambling',\n",
       "  'Mechs',\n",
       "  'Politics',\n",
       "  'Co-op Campaign',\n",
       "  '2D',\n",
       "  'BMX',\n",
       "  'Perma Death',\n",
       "  'Illuminati',\n",
       "  'America',\n",
       "  'Mining',\n",
       "  'Vikings',\n",
       "  'Dating Sim',\n",
       "  'Fantasy',\n",
       "  'Sports',\n",
       "  'Cartoon',\n",
       "  'Bowling',\n",
       "  'Looter Shooter',\n",
       "  'Demons',\n",
       "  'Mystery Dungeon',\n",
       "  'Video Production',\n",
       "  'Reboot',\n",
       "  'Board Game',\n",
       "  'Sci-fi',\n",
       "  'Dog',\n",
       "  'Underwater',\n",
       "  'Capitalism',\n",
       "  'Anime',\n",
       "  'Birds',\n",
       "  'Boxing',\n",
       "  'Survival Horror',\n",
       "  'Photo Editing',\n",
       "  'Jet',\n",
       "  'Hockey',\n",
       "  'Naval Combat',\n",
       "  'Collectathon',\n",
       "  'Spaceships',\n",
       "  'Fishing',\n",
       "  'Conspiracy',\n",
       "  'Text-Based',\n",
       "  'Escape Room',\n",
       "  \"1990's\",\n",
       "  'Shop Keeper',\n",
       "  'Mars',\n",
       "  'Skiing',\n",
       "  'Life Sim',\n",
       "  'Cricket',\n",
       "  'Bullet Time',\n",
       "  'City Builder',\n",
       "  'Heist',\n",
       "  'Cooking',\n",
       "  'First-Person',\n",
       "  'Wargame',\n",
       "  'Motocross',\n",
       "  'Cats',\n",
       "  'Hand-drawn',\n",
       "  'Outbreak Sim',\n",
       "  'Agriculture',\n",
       "  'Mahjong',\n",
       "  'Football (American)',\n",
       "  'Chess',\n",
       "  'Battle Royale',\n",
       "  'Basketball',\n",
       "  'Skateboarding',\n",
       "  'Bullet Hell',\n",
       "  'Blood',\n",
       "  'MMORPG',\n",
       "  'Farming Sim',\n",
       "  'Archery',\n",
       "  'Martial Arts',\n",
       "  'Solitaire',\n",
       "  'Dinosaurs',\n",
       "  'Boss Rush',\n",
       "  'Platformer',\n",
       "  'Beautiful',\n",
       "  'Tower Defense',\n",
       "  'Volleyball',\n",
       "  'Golf',\n",
       "  'Comic Book',\n",
       "  'Time Attack',\n",
       "  'Snowboarding',\n",
       "  'Combat Racing',\n",
       "  'Dungeon Crawler',\n",
       "  'Traditional Roguelike',\n",
       "  '3D Fighter',\n",
       "  'Real Time Tactics',\n",
       "  'Tennis',\n",
       "  \"Shoot 'Em Up\",\n",
       "  'Comedy',\n",
       "  'Wrestling',\n",
       "  'Werewolves',\n",
       "  'Extraction Shooter',\n",
       "  'Robots',\n",
       "  'JRPG',\n",
       "  'Football',\n",
       "  'Dragons',\n",
       "  'Time Travel',\n",
       "  'Walking Simulator',\n",
       "  'Space Sim',\n",
       "  'Singleplayer',\n",
       "  'World War II',\n",
       "  'Aliens',\n",
       "  'Clicker',\n",
       "  'FPS',\n",
       "  'PvP',\n",
       "  'Soccer',\n",
       "  'Strategy RPG',\n",
       "  'Ninja',\n",
       "  'Turn-Based Strategy',\n",
       "  'World War I',\n",
       "  'Pinball',\n",
       "  'Tanks',\n",
       "  'Cute',\n",
       "  'Pirates',\n",
       "  'Action RPG',\n",
       "  'Metroidvania',\n",
       "  'Mini Golf',\n",
       "  'Arena Shooter',\n",
       "  'Cyberpunk',\n",
       "  'Batman',\n",
       "  'Twin Stick Shooter',\n",
       "  'Baseball',\n",
       "  'Job Simulator',\n",
       "  'Warhammer 40K',\n",
       "  '2D Platformer',\n",
       "  'Dungeons & Dragons',\n",
       "  'VR Only',\n",
       "  'On-Rails Shooter',\n",
       "  '3D Platformer',\n",
       "  'Mouse only',\n",
       "  'Based On A Novel',\n",
       "  'Hero Shooter',\n",
       "  '2D Fighter',\n",
       "  'Open World Survival Craft',\n",
       "  'Tactical RPG',\n",
       "  'Roguelike Deckbuilder',\n",
       "  'Tutorial',\n",
       "  'Top-Down Shooter',\n",
       "  'Turn-Based Tactics',\n",
       "  'MOBA',\n",
       "  'LEGO',\n",
       "  'Turn-Based',\n",
       "  'Turn-Based Combat',\n",
       "  'Football (Soccer)',\n",
       "  'RTS',\n",
       "  'Third-Person Shooter',\n",
       "  'Party-Based RPG',\n",
       "  'Action RTS',\n",
       "  'Family Friendly',\n",
       "  'Free to Play'],\n",
       " 'scores': [0.06543461978435516,\n",
       "  0.036368731409311295,\n",
       "  0.01610512286424637,\n",
       "  0.014302189461886883,\n",
       "  0.009535971097648144,\n",
       "  0.009300198405981064,\n",
       "  0.008156204596161842,\n",
       "  0.007440017536282539,\n",
       "  0.007149993907660246,\n",
       "  0.007078607100993395,\n",
       "  0.006838822737336159,\n",
       "  0.005910157226026058,\n",
       "  0.0058569046668708324,\n",
       "  0.005612620618194342,\n",
       "  0.005584304686635733,\n",
       "  0.005497932434082031,\n",
       "  0.005156901199370623,\n",
       "  0.0048632537946105,\n",
       "  0.004757281392812729,\n",
       "  0.004620350897312164,\n",
       "  0.0045510586351156235,\n",
       "  0.004477244336158037,\n",
       "  0.004148669075220823,\n",
       "  0.004125506617128849,\n",
       "  0.004071519710123539,\n",
       "  0.003992974292486906,\n",
       "  0.003964913077652454,\n",
       "  0.003964187577366829,\n",
       "  0.0039342488162219524,\n",
       "  0.0038904661778360605,\n",
       "  0.0038782309275120497,\n",
       "  0.003816633950918913,\n",
       "  0.003764528315514326,\n",
       "  0.003751366166397929,\n",
       "  0.003663064446300268,\n",
       "  0.003648795885965228,\n",
       "  0.0036365126725286245,\n",
       "  0.003598918439820409,\n",
       "  0.0035950499586760998,\n",
       "  0.0035738490987569094,\n",
       "  0.003542359685525298,\n",
       "  0.003489944851025939,\n",
       "  0.003435654565691948,\n",
       "  0.003374807070940733,\n",
       "  0.003368747653439641,\n",
       "  0.0033601722680032253,\n",
       "  0.0033592607360333204,\n",
       "  0.003262680722400546,\n",
       "  0.003168645082041621,\n",
       "  0.0031562771182507277,\n",
       "  0.003135654143989086,\n",
       "  0.003076411783695221,\n",
       "  0.0030693616718053818,\n",
       "  0.0030491482466459274,\n",
       "  0.003046756610274315,\n",
       "  0.003002761397510767,\n",
       "  0.002990235108882189,\n",
       "  0.002990070031955838,\n",
       "  0.002974031027406454,\n",
       "  0.0029224527534097433,\n",
       "  0.0029118910897523165,\n",
       "  0.0029056917410343885,\n",
       "  0.0028940122574567795,\n",
       "  0.002882023574784398,\n",
       "  0.0028572992887347937,\n",
       "  0.0028416074346750975,\n",
       "  0.0028382083401083946,\n",
       "  0.002836670493707061,\n",
       "  0.0028360176365822554,\n",
       "  0.002835616236552596,\n",
       "  0.002811533398926258,\n",
       "  0.0028098314069211483,\n",
       "  0.0027972226962447166,\n",
       "  0.0027925590984523296,\n",
       "  0.0027758630458265543,\n",
       "  0.0027513988316059113,\n",
       "  0.002738494658842683,\n",
       "  0.002725237747654319,\n",
       "  0.002705658320337534,\n",
       "  0.002684931503608823,\n",
       "  0.002681707963347435,\n",
       "  0.0026730354875326157,\n",
       "  0.0026726326905190945,\n",
       "  0.0026422396767884493,\n",
       "  0.002624773420393467,\n",
       "  0.0026002831291407347,\n",
       "  0.0025916711892932653,\n",
       "  0.002588513307273388,\n",
       "  0.002574934856966138,\n",
       "  0.0025676582008600235,\n",
       "  0.002562612760812044,\n",
       "  0.00254285940900445,\n",
       "  0.002537679625675082,\n",
       "  0.002532346174120903,\n",
       "  0.002521166345104575,\n",
       "  0.0025063506327569485,\n",
       "  0.0025034775026142597,\n",
       "  0.0024958753492683172,\n",
       "  0.0024867316242307425,\n",
       "  0.0024622944183647633,\n",
       "  0.0024539867881685495,\n",
       "  0.0024461240973323584,\n",
       "  0.0024435180239379406,\n",
       "  0.002427348867058754,\n",
       "  0.002418570453301072,\n",
       "  0.0024053826928138733,\n",
       "  0.002398338634520769,\n",
       "  0.002383275656029582,\n",
       "  0.002372362185269594,\n",
       "  0.0023684243205934763,\n",
       "  0.0023590009659528732,\n",
       "  0.0023422862868756056,\n",
       "  0.002332985168322921,\n",
       "  0.002324890810996294,\n",
       "  0.0023207119666039944,\n",
       "  0.002290792064741254,\n",
       "  0.002271514618769288,\n",
       "  0.0022626863792538643,\n",
       "  0.0022570157889276743,\n",
       "  0.0022499265614897013,\n",
       "  0.002246271353214979,\n",
       "  0.0022437109146267176,\n",
       "  0.0022426825016736984,\n",
       "  0.0022399474401026964,\n",
       "  0.0022348968777805567,\n",
       "  0.0022244704887270927,\n",
       "  0.002220936119556427,\n",
       "  0.002216966589912772,\n",
       "  0.0022118377964943647,\n",
       "  0.0021809530444443226,\n",
       "  0.0021678649354726076,\n",
       "  0.0021665862295776606,\n",
       "  0.0021555894054472446,\n",
       "  0.0021520552691072226,\n",
       "  0.002147343009710312,\n",
       "  0.0021452808286994696,\n",
       "  0.002140806755051017,\n",
       "  0.0021175541914999485,\n",
       "  0.0021163912024348974,\n",
       "  0.0021117066498845816,\n",
       "  0.0021074400283396244,\n",
       "  0.002105188323184848,\n",
       "  0.0020930489990860224,\n",
       "  0.002090581925585866,\n",
       "  0.002077707089483738,\n",
       "  0.002071456518024206,\n",
       "  0.002066678134724498,\n",
       "  0.002062091138213873,\n",
       "  0.002052640775218606,\n",
       "  0.0020445010159164667,\n",
       "  0.002038927050307393,\n",
       "  0.00202886457554996,\n",
       "  0.002009089570492506,\n",
       "  0.002007584786042571,\n",
       "  0.0019979525823146105,\n",
       "  0.0019974284805357456,\n",
       "  0.0019944554660469294,\n",
       "  0.0019902612548321486,\n",
       "  0.0019713963847607374,\n",
       "  0.0019685723818838596,\n",
       "  0.001963292947039008,\n",
       "  0.0019613674376159906,\n",
       "  0.0019613588228821754,\n",
       "  0.001959169516339898,\n",
       "  0.0019528716802597046,\n",
       "  0.0019519473426043987,\n",
       "  0.0019396557472646236,\n",
       "  0.0019339154241606593,\n",
       "  0.0019337455742061138,\n",
       "  0.0019306793110445142,\n",
       "  0.0019296532263979316,\n",
       "  0.0019232023041695356,\n",
       "  0.0019163903780281544,\n",
       "  0.0019161978270858526,\n",
       "  0.0019091027788817883,\n",
       "  0.0019004617352038622,\n",
       "  0.0018868822371587157,\n",
       "  0.0018792125629261136,\n",
       "  0.001876711379736662,\n",
       "  0.0018643292132765055,\n",
       "  0.0018610254628583789,\n",
       "  0.0018591256812214851,\n",
       "  0.0018568666419014335,\n",
       "  0.0018395258812233806,\n",
       "  0.0018390660407021642,\n",
       "  0.0018291688757017255,\n",
       "  0.0018206557724624872,\n",
       "  0.0018201242201030254,\n",
       "  0.0018146629445254803,\n",
       "  0.0018060150323435664,\n",
       "  0.0018047818448394537,\n",
       "  0.001804626896046102,\n",
       "  0.0018004894955083728,\n",
       "  0.0017921521794050932,\n",
       "  0.0017884289845824242,\n",
       "  0.0017837757477536798,\n",
       "  0.0017812643200159073,\n",
       "  0.0017776618478819728,\n",
       "  0.001770491129718721,\n",
       "  0.0017658498836681247,\n",
       "  0.0017623106250539422,\n",
       "  0.0017589789349585772,\n",
       "  0.0017553431680426002,\n",
       "  0.0017537139356136322,\n",
       "  0.0017498749075457454,\n",
       "  0.0017368682892993093,\n",
       "  0.0017322010826319456,\n",
       "  0.0017318837344646454,\n",
       "  0.001729321200400591,\n",
       "  0.0017287435475736856,\n",
       "  0.0017272481927648187,\n",
       "  0.0017185022588819265,\n",
       "  0.0017081409459933639,\n",
       "  0.0017078908858820796,\n",
       "  0.0016962067456915975,\n",
       "  0.0016939629567787051,\n",
       "  0.0016915621235966682,\n",
       "  0.001688233227469027,\n",
       "  0.001686680712737143,\n",
       "  0.0016862592892721295,\n",
       "  0.001684619695879519,\n",
       "  0.0016806299099698663,\n",
       "  0.0016760320868343115,\n",
       "  0.0016716920072212815,\n",
       "  0.0016676599625498056,\n",
       "  0.001662519876845181,\n",
       "  0.0016589525621384382,\n",
       "  0.0016506087267771363,\n",
       "  0.0016498934710398316,\n",
       "  0.0016422352055087686,\n",
       "  0.0016381220193579793,\n",
       "  0.0016362470341846347,\n",
       "  0.0016333634266629815,\n",
       "  0.0016297849360853434,\n",
       "  0.0016282496508210897,\n",
       "  0.0016274629160761833,\n",
       "  0.0016242777928709984,\n",
       "  0.001623567775823176,\n",
       "  0.0016231174813583493,\n",
       "  0.0016157954232767224,\n",
       "  0.0016086482210084796,\n",
       "  0.001603789976797998,\n",
       "  0.0016010637627914548,\n",
       "  0.0015986557118594646,\n",
       "  0.001593311782926321,\n",
       "  0.0015893811360001564,\n",
       "  0.001587957376614213,\n",
       "  0.001586342346854508,\n",
       "  0.0015862405998632312,\n",
       "  0.0015798149397596717,\n",
       "  0.0015724216355010867,\n",
       "  0.001564580132253468,\n",
       "  0.0015640808269381523,\n",
       "  0.0015623440267518163,\n",
       "  0.001558105112053454,\n",
       "  0.0015575335128232837,\n",
       "  0.001555910799652338,\n",
       "  0.001552868983708322,\n",
       "  0.0015516761923208833,\n",
       "  0.0015508346259593964,\n",
       "  0.0015471510123461485,\n",
       "  0.0015470138750970364,\n",
       "  0.0015443919692188501,\n",
       "  0.0015389033360406756,\n",
       "  0.0015377725940197706,\n",
       "  0.001533077796921134,\n",
       "  0.0015315412310883403,\n",
       "  0.0015315244672819972,\n",
       "  0.001530510955490172,\n",
       "  0.0015215495368465781,\n",
       "  0.0015022758161649108,\n",
       "  0.0014853585744276643,\n",
       "  0.0014808381674811244,\n",
       "  0.0014796856557950377,\n",
       "  0.0014748143730685115,\n",
       "  0.0014739690814167261,\n",
       "  0.001471254276111722,\n",
       "  0.0014683243352919817,\n",
       "  0.0014678346924483776,\n",
       "  0.0014524414436891675,\n",
       "  0.001450032228603959,\n",
       "  0.0014492501504719257,\n",
       "  0.0014440403319895267,\n",
       "  0.0014419323997572064,\n",
       "  0.0014362003421410918,\n",
       "  0.0014357359614223242,\n",
       "  0.0014356754254549742,\n",
       "  0.001433364232070744,\n",
       "  0.0014301137998700142,\n",
       "  0.001418961794115603,\n",
       "  0.0014149312628433108,\n",
       "  0.0014117331011220813,\n",
       "  0.0014108046889305115,\n",
       "  0.0014070916222408414,\n",
       "  0.0014019630616530776,\n",
       "  0.0013950667344033718,\n",
       "  0.0013933527516201138,\n",
       "  0.001385112409479916,\n",
       "  0.0013811166863888502,\n",
       "  0.0013777096755802631,\n",
       "  0.0013731083599850535,\n",
       "  0.0013728357153013349,\n",
       "  0.0013688266044482589,\n",
       "  0.0013676033122465014,\n",
       "  0.0013656155206263065,\n",
       "  0.0013625655556097627,\n",
       "  0.001360116177238524,\n",
       "  0.0013560270890593529,\n",
       "  0.0013541883090510964,\n",
       "  0.001349927275441587,\n",
       "  0.0013384269550442696,\n",
       "  0.0013383059995248914,\n",
       "  0.0013278794940561056,\n",
       "  0.0013196567306295037,\n",
       "  0.00131437077652663,\n",
       "  0.001311869127675891,\n",
       "  0.0013096395414322615,\n",
       "  0.0013076290488243103,\n",
       "  0.0013068297412246466,\n",
       "  0.0013044087681919336,\n",
       "  0.001303946366533637,\n",
       "  0.0013037751195952296,\n",
       "  0.0013017769670113921,\n",
       "  0.0013017073506489396,\n",
       "  0.0013003874337300658,\n",
       "  0.0012938495492562652,\n",
       "  0.00128899235278368,\n",
       "  0.001283589517697692,\n",
       "  0.0012825459707528353,\n",
       "  0.0012814319925382733,\n",
       "  0.0012812098721042275,\n",
       "  0.0012663129018619657,\n",
       "  0.0012632531579583883,\n",
       "  0.0012604253133758903,\n",
       "  0.0012572978157550097,\n",
       "  0.0012565283104777336,\n",
       "  0.0012554798740893602,\n",
       "  0.001249622437171638,\n",
       "  0.0012490820372477174,\n",
       "  0.0012477273121476173,\n",
       "  0.0012391220079734921,\n",
       "  0.0012328603770583868,\n",
       "  0.0012326955329626799,\n",
       "  0.0012306688586249948,\n",
       "  0.0012305579148232937,\n",
       "  0.0012230048887431622,\n",
       "  0.0012172679416835308,\n",
       "  0.0012142510386183858,\n",
       "  0.001210257993079722,\n",
       "  0.0012101343600079417,\n",
       "  0.0012024735333397985,\n",
       "  0.0012012992519885302,\n",
       "  0.0011918909149244428,\n",
       "  0.0011832569725811481,\n",
       "  0.0011717770248651505,\n",
       "  0.0011574606178328395,\n",
       "  0.0011562880827113986,\n",
       "  0.0011515275109559298,\n",
       "  0.001150541240349412,\n",
       "  0.001147292205132544,\n",
       "  0.0011461790418252349,\n",
       "  0.0011447774013504386,\n",
       "  0.0011392072774469852,\n",
       "  0.00112937914673239,\n",
       "  0.0011228728108108044,\n",
       "  0.0011069895699620247,\n",
       "  0.0011062336852774024,\n",
       "  0.0010974027682095766,\n",
       "  0.0010903823422268033,\n",
       "  0.0010840159375220537,\n",
       "  0.001079490757547319,\n",
       "  0.0010690687922760844,\n",
       "  0.0010614179773256183,\n",
       "  0.001055496046319604,\n",
       "  0.0010500336065888405,\n",
       "  0.0010487462859600782,\n",
       "  0.0010454131988808513,\n",
       "  0.0010296687250956893,\n",
       "  0.0010157774668186903,\n",
       "  0.0010145532432943583,\n",
       "  0.0010139667429029942,\n",
       "  0.0010109452996402979,\n",
       "  0.0010103522799909115,\n",
       "  0.0010044691152870655,\n",
       "  0.001001354306936264,\n",
       "  0.0009910514345392585,\n",
       "  0.0009901757584884763,\n",
       "  0.000981188495643437,\n",
       "  0.00097978999838233,\n",
       "  0.0009756662766449153,\n",
       "  0.0009601699421182275,\n",
       "  0.0009573998977430165,\n",
       "  0.0009565355721861124,\n",
       "  0.0009550846880301833,\n",
       "  0.000951592402998358,\n",
       "  0.0009515461279079318,\n",
       "  0.0009476379491388798,\n",
       "  0.0009223093511536717,\n",
       "  0.0009177895844914019,\n",
       "  0.0009176880703307688,\n",
       "  0.0009132038685493171,\n",
       "  0.0009040446020662785,\n",
       "  0.0009020224097184837,\n",
       "  0.0008999453857541084,\n",
       "  0.0008958811522461474,\n",
       "  0.0008913511992432177,\n",
       "  0.0008904197020456195,\n",
       "  0.0008875367348082364,\n",
       "  0.0008835158077999949,\n",
       "  0.0008753324509598315,\n",
       "  0.0008711032569408417,\n",
       "  0.0008680135360918939,\n",
       "  0.0008594402461312711,\n",
       "  0.0008531719213351607,\n",
       "  0.0008448839071206748,\n",
       "  0.0008196132257580757,\n",
       "  0.0008019390515983105,\n",
       "  0.0007940591895021498,\n",
       "  0.000792651146184653,\n",
       "  0.0007892670691944659,\n",
       "  0.0007603898993693292,\n",
       "  0.0007601858233101666,\n",
       "  0.0007590200402773917,\n",
       "  0.0007584873237647116,\n",
       "  0.000757845991756767,\n",
       "  0.0007521644583903253,\n",
       "  0.0007475733291357756,\n",
       "  0.0007420241599902511,\n",
       "  0.0007142554968595505,\n",
       "  0.0007091890438459814,\n",
       "  0.0006948526715859771,\n",
       "  0.0006826837779954076,\n",
       "  0.0006792859639972448,\n",
       "  0.0006663515814580023,\n",
       "  0.0006615113816224039,\n",
       "  0.0006401311838999391,\n",
       "  0.0006293248734436929,\n",
       "  0.0006211153231561184,\n",
       "  0.0006198387709446251,\n",
       "  0.0006163281504996121,\n",
       "  0.0006086619687266648,\n",
       "  0.0005108094774186611,\n",
       "  0.0005101810675114393,\n",
       "  0.0004917372134514153,\n",
       "  0.0003969741228502244,\n",
       "  0.0002870001771952957]}"
      ]
     },
     "execution_count": 44,
     "metadata": {},
     "output_type": "execute_result"
    }
   ],
   "source": [
    "sequence_to_classify = df.iloc[4]['About the game']\n",
    "candidate_labels = tag_list\n",
    "classifier(sequence_to_classify, candidate_labels)"
   ]
  },
  {
   "cell_type": "code",
   "execution_count": null,
   "metadata": {},
   "outputs": [],
   "source": [
    "from sentence_transformers import SentenceTransformer, util as sbert_util\n",
    "\n",
    "model = SentenceTransformer(model_name_or_path='claritylab/zero-shot-implicit-bi-encoder')"
   ]
  },
  {
   "cell_type": "code",
   "execution_count": 46,
   "metadata": {},
   "outputs": [
    {
     "data": {
      "text/plain": [
       "[(0.654, 'Relaxing'),\n",
       " (0.564, 'Story Rich'),\n",
       " (0.548, 'Dungeons & Dragons'),\n",
       " (0.547, 'Adventure'),\n",
       " (0.537, 'Immersive Sim'),\n",
       " (0.534, 'Family Friendly'),\n",
       " (0.532, 'RPGMaker'),\n",
       " (0.524, 'Party'),\n",
       " (0.521, 'Magic'),\n",
       " (0.512, 'Life Sim'),\n",
       " (0.503, 'Web Publishing'),\n",
       " (0.496, 'Party-Based RPG'),\n",
       " (0.496, 'Futuristic'),\n",
       " (0.495, 'Survival'),\n",
       " (0.494, 'Roguevania'),\n",
       " (0.492, 'Conversation'),\n",
       " (0.487, 'Realistic'),\n",
       " (0.478, 'Supernatural'),\n",
       " (0.47, 'JRPG'),\n",
       " (0.466, 'Immersive'),\n",
       " (0.464, 'Lore-Rich'),\n",
       " (0.463, 'Touch-Friendly'),\n",
       " (0.462, 'Level Editor'),\n",
       " (0.459, 'Grand Strategy'),\n",
       " (0.458, 'Experience'),\n",
       " (0.456, 'Action'),\n",
       " (0.454, 'Job Simulator'),\n",
       " (0.452, 'Strategy RPG'),\n",
       " (0.447, 'Casual'),\n",
       " (0.447, 'Action RTS'),\n",
       " (0.444, 'Strategy'),\n",
       " (0.443, 'Tactical'),\n",
       " (0.443, 'Interactive Fiction'),\n",
       " (0.442, 'Warhammer 40K'),\n",
       " (0.442, 'Crafting'),\n",
       " (0.441, 'Rogue-lite'),\n",
       " (0.44, 'MMORPG'),\n",
       " (0.434, 'Boss Rush'),\n",
       " (0.432, 'Medical Sim'),\n",
       " (0.43, 'Colony Sim'),\n",
       " (0.429, 'Simulation'),\n",
       " (0.429, 'Comic Book'),\n",
       " (0.425, 'Action-Adventure'),\n",
       " (0.417, 'Souls-like'),\n",
       " (0.417, 'Collectathon'),\n",
       " (0.413, 'Visual Novel'),\n",
       " (0.412, 'Turn-Based Tactics'),\n",
       " (0.412, 'Real Time Tactics'),\n",
       " (0.41, 'Turn-Based Strategy'),\n",
       " (0.409, 'Music-Based Procedural Generation'),\n",
       " (0.407, 'Grid-Based Movement'),\n",
       " (0.403, 'God Game'),\n",
       " (0.401, 'Procedural Generation'),\n",
       " (0.4, 'Detective'),\n",
       " (0.398, 'Retro'),\n",
       " (0.396, 'Character Action Game'),\n",
       " (0.394, 'Capitalism'),\n",
       " (0.392, 'Spectacle fighter'),\n",
       " (0.392, 'Narrative'),\n",
       " (0.39, 'Faith'),\n",
       " (0.388, 'Space Sim'),\n",
       " (0.383, 'Farming Sim'),\n",
       " (0.382, 'Online Co-Op'),\n",
       " (0.382, 'Action RPG'),\n",
       " (0.381, 'Philosophical'),\n",
       " (0.38, 'Perma Death'),\n",
       " (0.376, 'NSFW'),\n",
       " (0.375, 'Wholesome'),\n",
       " (0.372, 'Noir'),\n",
       " (0.369, 'LEGO'),\n",
       " (0.369, 'Female Protagonist'),\n",
       " (0.369, 'Demons'),\n",
       " (0.367, 'Indie'),\n",
       " (0.365, 'Transhumanism'),\n",
       " (0.363, 'Shop Keeper'),\n",
       " (0.363, 'CRPG'),\n",
       " (0.359, 'Villain Protagonist'),\n",
       " (0.359, 'Software Training'),\n",
       " (0.358, 'RPG'),\n",
       " (0.352, 'Co-op Campaign'),\n",
       " (0.348, 'Design & Illustration'),\n",
       " (0.346, 'Trivia'),\n",
       " (0.346, 'Rogue-like'),\n",
       " (0.346, 'Photo Editing'),\n",
       " (0.346, 'City Builder'),\n",
       " (0.344, 'Outbreak Sim'),\n",
       " (0.344, 'Based On A Novel'),\n",
       " (0.344, 'America'),\n",
       " (0.342, 'Epic'),\n",
       " (0.341, 'Diplomacy'),\n",
       " (0.34, 'Psychedelic'),\n",
       " (0.34, '1980s'),\n",
       " (0.339, 'Artificial Intelligence'),\n",
       " (0.337, '3D Platformer'),\n",
       " (0.335, 'Modern'),\n",
       " (0.335, 'Hand-drawn'),\n",
       " (0.334, 'Spaceships'),\n",
       " (0.33, 'Lemmings'),\n",
       " (0.328, 'Unforgiving'),\n",
       " (0.326, 'Post-apocalyptic'),\n",
       " (0.326, 'Dystopian'),\n",
       " (0.325, 'Game Development'),\n",
       " (0.325, 'Controller'),\n",
       " (0.325, 'Character Customization'),\n",
       " (0.325, 'Alternate History'),\n",
       " (0.324, 'Psychological'),\n",
       " (0.324, 'Economy'),\n",
       " (0.324, 'Assassin'),\n",
       " (0.323, 'Rome'),\n",
       " (0.322, 'Agriculture'),\n",
       " (0.321, 'Pixel Graphics'),\n",
       " (0.321, 'Crowdfunded'),\n",
       " (0.32, 'Tactical RPG'),\n",
       " (0.32, 'Animation & Modeling'),\n",
       " (0.318, 'Sexual Content'),\n",
       " (0.318, 'Aliens'),\n",
       " (0.317, 'Historical'),\n",
       " (0.316, 'VR'),\n",
       " (0.316, 'LGBTQ+'),\n",
       " (0.314, 'Programming'),\n",
       " (0.314, 'Moddable'),\n",
       " (0.314, 'Benchmark'),\n",
       " (0.313, 'MOBA'),\n",
       " (0.312, 'Mythology'),\n",
       " (0.311, 'Sci-fi'),\n",
       " (0.31, 'Reboot'),\n",
       " (0.31, 'Party Game'),\n",
       " (0.309, 'Games Workshop'),\n",
       " (0.309, 'Choices Matter'),\n",
       " (0.308, 'Third Person'),\n",
       " (0.308, 'Ninja'),\n",
       " (0.308, 'Dynamic Narration'),\n",
       " (0.307, 'Sandbox'),\n",
       " (0.307, 'Episodic'),\n",
       " (0.306, 'Narration'),\n",
       " (0.306, 'Lovecraftian'),\n",
       " (0.306, 'Hero Shooter'),\n",
       " (0.306, 'Fast-Paced'),\n",
       " (0.305, 'Space'),\n",
       " (0.3, 'Colorful'),\n",
       " (0.299, 'Voxel'),\n",
       " (0.297, 'GameMaker'),\n",
       " (0.297, 'Asymmetric VR'),\n",
       " (0.295, 'Choose Your Own Adventure'),\n",
       " (0.293, 'Sokoban'),\n",
       " (0.293, 'Dungeon Crawler'),\n",
       " (0.293, 'Co-op'),\n",
       " (0.288, 'Medieval'),\n",
       " (0.288, 'Farming'),\n",
       " (0.286, 'Silent Protagonist'),\n",
       " (0.286, 'Sequel'),\n",
       " (0.286, 'Point & Click'),\n",
       " (0.286, 'Kickstarter'),\n",
       " (0.285, 'Vikings'),\n",
       " (0.285, 'FPS'),\n",
       " (0.285, 'Coding'),\n",
       " (0.284, 'First-Person'),\n",
       " (0.282, \"Shoot 'Em Up\"),\n",
       " (0.281, 'Loot'),\n",
       " (0.279, 'Word Game'),\n",
       " (0.278, 'VR Only'),\n",
       " (0.273, 'Musou'),\n",
       " (0.273, 'Extraction Shooter'),\n",
       " (0.273, 'Addictive'),\n",
       " (0.272, 'Combat'),\n",
       " (0.268, 'Creature Collector'),\n",
       " (0.267, 'Tower Defense'),\n",
       " (0.267, 'Open World'),\n",
       " (0.267, 'Masterpiece'),\n",
       " (0.267, 'Cartoony'),\n",
       " (0.265, 'Software'),\n",
       " (0.265, 'Asynchronous Multiplayer'),\n",
       " (0.264, 'Fighting'),\n",
       " (0.261, 'Batman'),\n",
       " (0.261, 'Audio Production'),\n",
       " (0.26, 'Well-Written'),\n",
       " (0.26, 'Management'),\n",
       " (0.26, 'Hidden Object'),\n",
       " (0.259, 'Dragons'),\n",
       " (0.258, '2D Platformer'),\n",
       " (0.257, 'Platformer'),\n",
       " (0.256, 'Surreal'),\n",
       " (0.256, 'Exploration'),\n",
       " (0.254, 'Hacking'),\n",
       " (0.252, 'Metroidvania'),\n",
       " (0.252, 'Mahjong'),\n",
       " (0.251, 'Superhero'),\n",
       " (0.25, 'Hack and Slash'),\n",
       " (0.249, 'Nudity'),\n",
       " (0.249, 'Minigames'),\n",
       " (0.249, 'Massively Multiplayer'),\n",
       " (0.249, 'Heist'),\n",
       " (0.247, '3D Vision'),\n",
       " (0.245, 'Idler'),\n",
       " (0.244, 'Vehicular Combat'),\n",
       " (0.243, 'Tabletop'),\n",
       " (0.243, 'Hentai'),\n",
       " (0.241, 'Fantasy'),\n",
       " (0.241, 'Automation'),\n",
       " (0.24, 'Memes'),\n",
       " (0.238, 'Split Screen'),\n",
       " (0.238, \"Beat 'em up\"),\n",
       " (0.236, 'Puzzle-Platformer'),\n",
       " (0.234, 'Abstract'),\n",
       " (0.233, 'Offroad'),\n",
       " (0.233, 'Anime'),\n",
       " (0.232, 'Turn-Based Combat'),\n",
       " (0.229, 'Comedy'),\n",
       " (0.228, 'Satire'),\n",
       " (0.226, '3D'),\n",
       " (0.225, 'Nostalgia'),\n",
       " (0.225, 'Hardware'),\n",
       " (0.224, 'Early Access'),\n",
       " (0.221, 'Cyberpunk'),\n",
       " (0.219, 'Underground'),\n",
       " (0.216, 'Cult Classic'),\n",
       " (0.214, 'Social Deduction'),\n",
       " (0.214, 'Otome'),\n",
       " (0.213, 'Werewolves'),\n",
       " (0.213, 'Steampunk'),\n",
       " (0.212, 'Dark Humor'),\n",
       " (0.212, 'Cartoon'),\n",
       " (0.211, 'Mouse only'),\n",
       " (0.21, 'Clicker'),\n",
       " (0.21, '6DOF'),\n",
       " (0.209, 'Jump Scare'),\n",
       " (0.208, 'Robots'),\n",
       " (0.208, 'Nature'),\n",
       " (0.208, 'Experimental'),\n",
       " (0.202, 'Short'),\n",
       " (0.201, 'Cute'),\n",
       " (0.201, '360 Video'),\n",
       " (0.199, 'Gaming'),\n",
       " (0.199, 'Classic'),\n",
       " (0.195, 'Mature'),\n",
       " (0.195, 'Drama'),\n",
       " (0.193, 'Parkour'),\n",
       " (0.193, 'Open World Survival Craft'),\n",
       " (0.192, 'Beautiful'),\n",
       " (0.191, 'Difficult'),\n",
       " (0.189, 'Walking Simulator'),\n",
       " (0.189, 'Science'),\n",
       " (0.188, 'Fox'),\n",
       " (0.187, 'Underwater'),\n",
       " (0.187, 'Typing'),\n",
       " (0.187, 'Roguelike Deckbuilder'),\n",
       " (0.187, 'Funny'),\n",
       " (0.185, 'Parody'),\n",
       " (0.184, 'Base-Building'),\n",
       " (0.183, 'Local Co-Op'),\n",
       " (0.182, 'Political Sim'),\n",
       " (0.182, '3D Fighter'),\n",
       " (0.18, 'Resource Management'),\n",
       " (0.179, 'Dark Fantasy'),\n",
       " (0.176, 'Free to Play'),\n",
       " (0.173, 'Cozy'),\n",
       " (0.172, 'Multiple Endings'),\n",
       " (0.169, 'Investigation'),\n",
       " (0.169, 'Action Roguelike'),\n",
       " (0.168, 'War'),\n",
       " (0.168, 'Vampire'),\n",
       " (0.167, 'Naval Combat'),\n",
       " (0.167, 'Mining'),\n",
       " (0.165, 'Hobby Sim'),\n",
       " (0.162, 'PvE'),\n",
       " (0.162, 'Gambling'),\n",
       " (0.161, 'Movie'),\n",
       " (0.159, 'Team-Based'),\n",
       " (0.159, 'Score Attack'),\n",
       " (0.157, 'Logic'),\n",
       " (0.157, 'Dating Sim'),\n",
       " (0.156, 'Combat Racing'),\n",
       " (0.155, 'Stylized'),\n",
       " (0.154, 'e-sports'),\n",
       " (0.154, 'Stealth'),\n",
       " (0.154, 'Mystery Dungeon'),\n",
       " (0.154, 'Local Multiplayer'),\n",
       " (0.153, 'Arcade'),\n",
       " (0.15, 'Top-Down'),\n",
       " (0.149, 'Wargame'),\n",
       " (0.148, 'Rhythm'),\n",
       " (0.147, 'Video Production'),\n",
       " (0.147, 'Great Soundtrack'),\n",
       " (0.143, 'Side Scroller'),\n",
       " (0.142, 'Gothic'),\n",
       " (0.142, 'Electronic'),\n",
       " (0.142, \"1990's\"),\n",
       " (0.141, 'Time Manipulation'),\n",
       " (0.141, 'Remake'),\n",
       " (0.141, 'Board Game'),\n",
       " (0.14, 'Zombies'),\n",
       " (0.14, 'FMV'),\n",
       " (0.138, 'Automobile Sim'),\n",
       " (0.137, 'Inventory Management'),\n",
       " (0.136, 'Traditional Roguelike'),\n",
       " (0.134, 'Replay Value'),\n",
       " (0.134, 'Looter Shooter'),\n",
       " (0.132, 'On-Rails Shooter'),\n",
       " (0.131, 'Swordplay'),\n",
       " (0.131, 'Mars'),\n",
       " (0.131, 'Class-Based'),\n",
       " (0.131, '2D Fighter'),\n",
       " (0.128, 'Precision Platformer'),\n",
       " (0.128, 'Auto Battler'),\n",
       " (0.127, 'Romance'),\n",
       " (0.127, 'Old School'),\n",
       " (0.127, 'Dinosaurs'),\n",
       " (0.124, 'Hex Grid'),\n",
       " (0.124, 'Cinematic'),\n",
       " (0.122, 'Horses'),\n",
       " (0.122, 'Competitive'),\n",
       " (0.12, 'Mod'),\n",
       " (0.12, 'Deckbuilding'),\n",
       " (0.12, 'Cycling'),\n",
       " (0.118, 'Politics'),\n",
       " (0.117, 'Physics'),\n",
       " (0.116, 'Nonlinear'),\n",
       " (0.116, 'Naval'),\n",
       " (0.116, 'Battle Royale'),\n",
       " (0.114, 'Trading'),\n",
       " (0.114, 'Minimalist'),\n",
       " (0.113, 'Football (American)'),\n",
       " (0.112, 'Military'),\n",
       " (0.111, 'Multiplayer'),\n",
       " (0.11, 'Mystery'),\n",
       " (0.109, 'Tutorial'),\n",
       " (0.109, 'Bikes'),\n",
       " (0.108, 'Singleplayer'),\n",
       " (0.108, 'Martial Arts'),\n",
       " (0.108, 'Driving'),\n",
       " (0.107, 'Time Management'),\n",
       " (0.106, 'Racing'),\n",
       " (0.106, 'Political'),\n",
       " (0.105, 'Puzzle'),\n",
       " (0.105, 'ATV'),\n",
       " (0.104, 'Dog'),\n",
       " (0.101, 'Runner'),\n",
       " (0.101, 'Football (Soccer)'),\n",
       " (0.1, 'Thriller'),\n",
       " (0.099, 'PvP'),\n",
       " (0.098, 'World War II'),\n",
       " (0.097, 'Sniper'),\n",
       " (0.097, 'Motocross'),\n",
       " (0.096, 'Sports'),\n",
       " (0.096, '2D'),\n",
       " (0.095, 'Pirates'),\n",
       " (0.093, 'Motorbike'),\n",
       " (0.093, 'Dark Comedy'),\n",
       " (0.092, 'Education'),\n",
       " (0.092, '4X'),\n",
       " (0.091, 'Cooking'),\n",
       " (0.09, 'Utilities'),\n",
       " (0.089, 'Soccer'),\n",
       " (0.089, '4 Player Local'),\n",
       " (0.088, 'Fishing'),\n",
       " (0.088, 'Ambient'),\n",
       " (0.087, 'Real-Time'),\n",
       " (0.087, 'Jet'),\n",
       " (0.087, 'Conspiracy'),\n",
       " (0.087, 'Archery'),\n",
       " (0.086, 'Hockey'),\n",
       " (0.086, 'Baseball'),\n",
       " (0.085, 'Football'),\n",
       " (0.085, 'Blood'),\n",
       " (0.085, 'Basketball'),\n",
       " (0.084, 'Wrestling'),\n",
       " (0.084, 'Real-Time with Pause'),\n",
       " (0.084, 'Birds'),\n",
       " (0.084, 'BMX'),\n",
       " (0.083, 'World War I'),\n",
       " (0.083, 'RTS'),\n",
       " (0.083, 'Match 3'),\n",
       " (0.083, 'Cricket'),\n",
       " (0.083, 'Boxing'),\n",
       " (0.082, 'Gun Customization'),\n",
       " (0.082, 'Crime'),\n",
       " (0.08, 'Tennis'),\n",
       " (0.079, 'Bullet Hell'),\n",
       " (0.079, 'Arena Shooter'),\n",
       " (0.078, 'Emotional'),\n",
       " (0.077, 'Volleyball'),\n",
       " (0.077, 'Skateboarding'),\n",
       " (0.077, 'Rugby'),\n",
       " (0.076, 'Trading Card Game'),\n",
       " (0.076, 'Atmospheric'),\n",
       " (0.074, 'Western'),\n",
       " (0.073, 'Pinball'),\n",
       " (0.072, 'Cats'),\n",
       " (0.071, 'Skating'),\n",
       " (0.071, 'Escape Room'),\n",
       " (0.07, 'Sailing'),\n",
       " (0.067, 'Cold War'),\n",
       " (0.066, 'Skiing'),\n",
       " (0.065, 'Pool'),\n",
       " (0.062, 'Hunting'),\n",
       " (0.061, 'Voice Control'),\n",
       " (0.061, 'Snowboarding'),\n",
       " (0.061, 'Card Battler'),\n",
       " (0.06, '2.5D'),\n",
       " (0.058, 'Violent'),\n",
       " (0.058, 'Feature Film'),\n",
       " (0.056, 'Bowling'),\n",
       " (0.055, 'Foreign'),\n",
       " (0.052, 'Steam Machine'),\n",
       " (0.05, 'Documentary'),\n",
       " (0.049, 'Shooter'),\n",
       " (0.046, 'Twin Stick Shooter'),\n",
       " (0.046, 'Card Game'),\n",
       " (0.045, 'Time Attack'),\n",
       " (0.045, 'Mini Golf'),\n",
       " (0.044, 'Building'),\n",
       " (0.043, 'Time Travel'),\n",
       " (0.041, 'Golf'),\n",
       " (0.039, 'Top-Down Shooter'),\n",
       " (0.038, '8-bit Music'),\n",
       " (0.035, 'Intentionally Awkward Controls'),\n",
       " (0.035, 'Destruction'),\n",
       " (0.032, 'Chess'),\n",
       " (0.031, 'Third-Person Shooter'),\n",
       " (0.027, 'Turn-Based'),\n",
       " (0.027, 'Gore'),\n",
       " (0.026, 'Quick-Time Events'),\n",
       " (0.024, 'Transportation'),\n",
       " (0.024, 'Solitaire'),\n",
       " (0.022, 'Spelling'),\n",
       " (0.022, 'Isometric'),\n",
       " (0.015, 'Mechs'),\n",
       " (0.013, 'Snow'),\n",
       " (0.012, 'Survival Horror'),\n",
       " (0.012, 'Linear'),\n",
       " (0.012, 'Bullet Time'),\n",
       " (0.008, 'TrackIR'),\n",
       " (0.007, 'Tanks'),\n",
       " (0.006, 'Horror'),\n",
       " (0.005, 'Illuminati'),\n",
       " (0.003, 'Psychological Horror'),\n",
       " (-0.001, 'Submarine'),\n",
       " (-0.005, 'Flight'),\n",
       " (-0.007, 'Electronic Music'),\n",
       " (-0.008, 'Soundtrack'),\n",
       " (-0.008, 'Instrumental Music'),\n",
       " (-0.01, 'Rock Music'),\n",
       " (-0.01, 'Dark'),\n",
       " (-0.015, 'Text-Based'),\n",
       " (-0.029, 'Trains'),\n",
       " (-0.037, 'Music')]"
      ]
     },
     "execution_count": 46,
     "metadata": {},
     "output_type": "execute_result"
    },
    {
     "data": {
      "application/vnd.jupyter.widget-view+json": {
       "model_id": "198a34e1ebba408290f02e20c99187b8",
       "version_major": 2,
       "version_minor": 0
      },
      "text/plain": [
       "model.safetensors:   0%|          | 0.00/438M [00:00<?, ?B/s]"
      ]
     },
     "metadata": {},
     "output_type": "display_data"
    }
   ],
   "source": [
    "text = df.iloc[4]['About the game']\n",
    "labels = tag_list\n",
    "aspect = 'best tag:' # classification\n",
    "aspect_sep_token = model.tokenizer.additional_special_tokens[0]\n",
    "text = f'{aspect} {aspect_sep_token} {text}'\n",
    "\n",
    "text_embed = model.encode(text)\n",
    "label_embeds = model.encode(labels)\n",
    "scores = [round(sbert_util.cos_sim(text_embed, lb_embed).item(), 3) for lb_embed in label_embeds]\n",
    "sorted(list(zip(scores, labels)))[::-1]"
   ]
  }
 ],
 "metadata": {
  "kernelspec": {
   "display_name": "env1",
   "language": "python",
   "name": "python3"
  },
  "language_info": {
   "codemirror_mode": {
    "name": "ipython",
    "version": 3
   },
   "file_extension": ".py",
   "mimetype": "text/x-python",
   "name": "python",
   "nbconvert_exporter": "python",
   "pygments_lexer": "ipython3",
   "version": "3.11.11"
  }
 },
 "nbformat": 4,
 "nbformat_minor": 2
}
